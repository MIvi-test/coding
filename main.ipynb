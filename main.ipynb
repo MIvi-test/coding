{
 "cells": [
  {
   "cell_type": "code",
   "execution_count": 2,
   "id": "3d175a8f",
   "metadata": {},
   "outputs": [],
   "source": [
    "import numpy"
   ]
  },
  {
   "cell_type": "code",
   "execution_count": 9,
   "id": "d320f51f",
   "metadata": {},
   "outputs": [],
   "source": [
    "a = numpy.array([(1,2),(2,5)])"
   ]
  },
  {
   "cell_type": "code",
   "execution_count": 10,
   "id": "cb3e2540",
   "metadata": {},
   "outputs": [],
   "source": [
    "b = numpy.array([(3,4),(2,1)])"
   ]
  },
  {
   "cell_type": "code",
   "execution_count": null,
   "id": "b8633400",
   "metadata": {},
   "outputs": [
    {
     "data": {
      "text/plain": [
       "array([2, 2])"
      ]
     },
     "execution_count": 13,
     "metadata": {},
     "output_type": "execute_result"
    }
   ],
   "source": []
  },
  {
   "cell_type": "code",
   "execution_count": 11,
   "id": "424b6031",
   "metadata": {},
   "outputs": [
    {
     "data": {
      "text/plain": [
       "array([[3, 8],\n",
       "       [4, 5]])"
      ]
     },
     "execution_count": 11,
     "metadata": {},
     "output_type": "execute_result"
    }
   ],
   "source": [
    "a*b"
   ]
  }
 ],
 "metadata": {
  "kernelspec": {
   "display_name": "Python 3",
   "language": "python",
   "name": "python3"
  },
  "language_info": {
   "codemirror_mode": {
    "name": "ipython",
    "version": 3
   },
   "file_extension": ".py",
   "mimetype": "text/x-python",
   "name": "python",
   "nbconvert_exporter": "python",
   "pygments_lexer": "ipython3",
   "version": "3.13.7"
  }
 },
 "nbformat": 4,
 "nbformat_minor": 5
}
